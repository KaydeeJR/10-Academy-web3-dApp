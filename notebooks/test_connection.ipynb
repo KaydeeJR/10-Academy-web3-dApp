{
 "cells": [
  {
   "cell_type": "markdown",
   "metadata": {},
   "source": [
    "**CREATING ALGORAND ACCOUNT**"
   ]
  },
  {
   "cell_type": "code",
   "execution_count": 1,
   "metadata": {},
   "outputs": [],
   "source": [
    "import os\n",
    "import sys\n",
    "curr_dir_path = os.path.split(os.getcwd())[0]+\"/scripts\"\n",
    "\n",
    "if curr_dir_path not in sys.path:\n",
    "    sys.path.append(curr_dir_path)\n",
    "\n",
    "# account without wallet\n",
    "mnemonic_string= \"faint flip glance point cover people comfort razor range depart hotel diesel design brand upon fiber thumb unique develop early universe copper feel ability frozen\""
   ]
  },
  {
   "cell_type": "markdown",
   "metadata": {},
   "source": [
    "**FETCHING ACCOUNT BALANCE**"
   ]
  },
  {
   "cell_type": "code",
   "execution_count": 2,
   "metadata": {},
   "outputs": [
    {
     "name": "stdout",
     "output_type": "stream",
     "text": [
      "Account balance: 0 microAlgos\n",
      "\n"
     ]
    }
   ],
   "source": [
    "import algo_test_account\n",
    "import connect_client\n",
    "connect_client.check_balance(connect_client.connect_to_algod_api(\"\",\"\"),algo_test_account.get_public_from_mnemo(mnemonic_string))"
   ]
  },
  {
   "cell_type": "markdown",
   "metadata": {},
   "source": [
    "**WALLET CREATION**"
   ]
  },
  {
   "cell_type": "code",
   "execution_count": 10,
   "metadata": {},
   "outputs": [
    {
     "name": "stdout",
     "output_type": "stream",
     "text": [
      "public key XGOPJNFFVXIUCNZAYPXGVXTQB2OKISYADMW2MMWL2QAZFCL5PQSAMDNH3A\n",
      "private key XGOPJNFFVXIUCNZAYPXGVXTQB2OKISYADMW2MMWL2QAZFCL5PQSAMDNH3A\n"
     ]
    }
   ],
   "source": [
    "import kmd_client\n",
    "wal_name = \"njogu\" # also created account \"janerose\"\n",
    "\n",
    "wallet = kmd_client.wallet_details(wallet_name = wal_name, password=hash(wal_name), client = kmd_client.connect_kmd_client())\n",
    "wal_mnemonic = wallet.get_mnemonic()\n",
    "print(\"public key\", algo_test_account.get_public_from_mnemo(wal_mnemonic))\n",
    "print(\"private key\",algo_test_account.get_public_from_mnemo(wal_mnemonic))"
   ]
  },
  {
   "cell_type": "markdown",
   "metadata": {},
   "source": [
    "**INITIATE TRANSACTION**"
   ]
  },
  {
   "cell_type": "code",
   "execution_count": null,
   "metadata": {},
   "outputs": [],
   "source": [
    "connect_client.start_transaction(connect_client.connect_to_algod_api(\"\",\"\"),\"AVITX4UDQFADVRQZCZSSOQWOKJ4YI2XASAXVJIUR73UPGQCXXUV4SITD6Y\",\"icNmjH2pv/uCCEcgg80lDrNwBH0tloNjzKecbSY8VdQFUTvyg4FAOsYZFmUnQs5SeYRq4JAvVKKR/ujzQFe9Kw==\")"
   ]
  }
 ],
 "metadata": {
  "kernelspec": {
   "display_name": "Python 3.10.6 ('week6-web3-dapp': venv)",
   "language": "python",
   "name": "python3"
  },
  "language_info": {
   "codemirror_mode": {
    "name": "ipython",
    "version": 3
   },
   "file_extension": ".py",
   "mimetype": "text/x-python",
   "name": "python",
   "nbconvert_exporter": "python",
   "pygments_lexer": "ipython3",
   "version": "3.10.6"
  },
  "orig_nbformat": 4,
  "vscode": {
   "interpreter": {
    "hash": "617accf9ade468ac9789c07ab25ce015391df2d7e5a2596b8d60097b1a654efd"
   }
  }
 },
 "nbformat": 4,
 "nbformat_minor": 2
}
