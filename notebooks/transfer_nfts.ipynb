{
 "cells": [
  {
   "cell_type": "markdown",
   "metadata": {},
   "source": [
    "**INITIATE TRANSACTION**"
   ]
  },
  {
   "cell_type": "code",
   "execution_count": null,
   "metadata": {},
   "outputs": [],
   "source": [
    "connect_client.start_transaction(connect_client.connect_to_algod_api(\"\",\"\"),\"AVITX4UDQFADVRQZCZSSOQWOKJ4YI2XASAXVJIUR73UPGQCXXUV4SITD6Y\",\"icNmjH2pv/uCCEcgg80lDrNwBH0tloNjzKecbSY8VdQFUTvyg4FAOsYZFmUnQs5SeYRq4JAvVKKR/ujzQFe9Kw==\")"
   ]
  }
 ],
 "metadata": {
  "kernelspec": {
   "display_name": "Python 3.10.6 ('week6-web3-dapp': venv)",
   "language": "python",
   "name": "python3"
  },
  "language_info": {
   "name": "python",
   "version": "3.10.6"
  },
  "orig_nbformat": 4,
  "vscode": {
   "interpreter": {
    "hash": "617accf9ade468ac9789c07ab25ce015391df2d7e5a2596b8d60097b1a654efd"
   }
  }
 },
 "nbformat": 4,
 "nbformat_minor": 2
}
